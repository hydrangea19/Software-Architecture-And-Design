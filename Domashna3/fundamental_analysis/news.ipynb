{
 "cells": [
  {
   "cell_type": "code",
   "id": "initial_id",
   "metadata": {
    "collapsed": true,
    "ExecuteTime": {
     "end_time": "2024-12-07T15:42:48.525394Z",
     "start_time": "2024-12-07T15:42:29.864651Z"
    }
   },
   "source": [
    "import requests\n",
    "from bs4 import BeautifulSoup\n",
    "\n",
    "\n",
    "def get_news_from_page(url):\n",
    "    response = requests.get(url)\n",
    "    soup = BeautifulSoup(response.text, 'html.parser')\n",
    "\n",
    "    news_items = []\n",
    "    rows = soup.find_all('div', class_='row')\n",
    "\n",
    "    for row in rows:\n",
    "    \n",
    "        title = row.find('b')\n",
    "        link = row.find('a')\n",
    "\n",
    "        \n",
    "        if title and 'акции' in title.text.lower():\n",
    "            news_url = 'https://www.mse.mk' + link['href']\n",
    "            description = get_description_from_news_page(news_url)\n",
    "\n",
    "            news_items.append({\n",
    "                'date': link.text.strip(),\n",
    "                'title': title.text.strip(),\n",
    "                'description': description if description else 'Нема опис',\n",
    "               \n",
    "            })\n",
    "\n",
    "    return news_items\n",
    "\n",
    "\n",
    "def get_description_from_news_page(url):\n",
    "    response = requests.get(url)\n",
    "    soup = BeautifulSoup(response.text, 'html.parser')\n",
    "\n",
    " \n",
    "    panel_body = soup.find('div', class_='panel-body')\n",
    "    if panel_body:\n",
    "        description_paragraphs = panel_body.find_all('p')\n",
    "        description = \"\\n\".join([para.text.strip() for para in description_paragraphs])\n",
    "        return description\n",
    "    return None\n",
    "\n",
    "\n",
    "def get_all_news():\n",
    "    base_url = 'https://www.mse.mk/mk/news/latest/'\n",
    "\n",
    "    all_news = []\n",
    "    for page_num in range(1, 11):\n",
    "        url = base_url + str(page_num)\n",
    "        news_from_page = get_news_from_page(url)\n",
    "        all_news.extend(news_from_page)\n",
    "\n",
    "    return all_news\n",
    "\n",
    "\n",
    "def save_news_to_file(news):\n",
    "    with open('news.txt', 'w', encoding='utf-8') as file:\n",
    "        for item in news:\n",
    "            file.write(f\"Дата: {item['date']}\\n\")\n",
    "            file.write(f\"Наслов: {item['title']}\\n\")\n",
    "            file.write(f\"Опис: {item['description']}\\n\")\n",
    "            file.write('-' * 80 + '\\n')\n",
    "\n",
    "\n",
    "def main():\n",
    "    news = get_all_news()\n",
    "    if not news:\n",
    "        print(\"Нема вести кои содржат зборот 'акции'.\")\n",
    "    else:\n",
    "        save_news_to_file(news) \n",
    "        print(\"Вестите се зачувани во news.txt\")\n",
    "\n",
    "if __name__ == \"__main__\":\n",
    "    main()\n"
   ],
   "outputs": [
    {
     "name": "stdout",
     "output_type": "stream",
     "text": [
      "Вестите се зачувани во news.txt\n"
     ]
    }
   ],
   "execution_count": 14
  }
 ],
 "metadata": {
  "kernelspec": {
   "display_name": "Python 3",
   "language": "python",
   "name": "python3"
  },
  "language_info": {
   "codemirror_mode": {
    "name": "ipython",
    "version": 2
   },
   "file_extension": ".py",
   "mimetype": "text/x-python",
   "name": "python",
   "nbconvert_exporter": "python",
   "pygments_lexer": "ipython2",
   "version": "2.7.6"
  }
 },
 "nbformat": 4,
 "nbformat_minor": 5
}
